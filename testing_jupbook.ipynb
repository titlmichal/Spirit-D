{
 "cells": [
  {
   "cell_type": "code",
   "execution_count": 5,
   "id": "0b59b166",
   "metadata": {},
   "outputs": [
    {
     "name": "stdout",
     "output_type": "stream",
     "text": [
      "Requirement already satisfied: gpxpy in c:\\users\\michal\\desktop\\spirit-d\\lib\\site-packages (1.6.2)\n"
     ]
    },
    {
     "name": "stderr",
     "output_type": "stream",
     "text": [
      "ERROR: Could not find a version that satisfies the requirement gpxpy.gpx (from versions: none)\n",
      "ERROR: No matching distribution found for gpxpy.gpx\n"
     ]
    },
    {
     "name": "stdout",
     "output_type": "stream",
     "text": [
      "Collecting psycopg2\n",
      "  Using cached psycopg2-2.9.10-cp311-cp311-win_amd64.whl.metadata (5.0 kB)\n",
      "Using cached psycopg2-2.9.10-cp311-cp311-win_amd64.whl (1.2 MB)\n",
      "Installing collected packages: psycopg2\n",
      "Successfully installed psycopg2-2.9.10\n"
     ]
    }
   ],
   "source": [
    "!pip install gpxpy\n",
    "!pip install gpxpy.gpx;\n",
    "!pip install psycopg2;"
   ]
  },
  {
   "cell_type": "code",
   "execution_count": 6,
   "id": "1ede9d73",
   "metadata": {},
   "outputs": [
    {
     "name": "stdout",
     "output_type": "stream",
     "text": [
      "GPX(waypoints=[GPXWaypoint(45.772163216, 14.357652292, time=datetime.datetime(2010, 8, 5, 14, 23, 59, tzinfo=SimpleTZ('Z')), name='001', description='05-AUG-10 16:58:37', symbol='Flag, Blue', comment='05-AUG-10 16:58:37'), GPXWaypoint(45.757933259, 14.294899916, elevation=-0.11438, name='BACK T TH', description='BACK TO THE ROOTS', symbol='City (Small)', comment='BACK TO THE ROOTS'), GPXWaypoint(45.735199945, 14.377516648, elevation=-0.11438, name='BIRDS NEST', description='BIRDS NEST', symbol='City (Small)', comment='BIRDS NEST'), GPXWaypoint(45.791266663, 14.293566607, elevation=-0.11438, name='FAGGIO', description='FAGGIO', symbol='City (Small)', comment='FAGGIO'), GPXWaypoint(45.795349991, 14.28863327, elevation=-0.11438, name='RAKOV12', description='RAKOV12', symbol='City (Small)', comment='RAKOV12'), GPXWaypoint(45.791666647, 14.305099938, elevation=-0.11438, name='RAKV SKCJN', description='RAKOV SKOCJAN', symbol='City (Small)', comment='RAKOV SKOCJAN'), GPXWaypoint(45.765583254, 14.361333288, elevation=-0.11438, name='VANSHNG LK', description='VANISHING LAKE', symbol='City (Small)', comment='VANISHING LAKE')], tracks=[GPXTrack(name='ACTIVE LOG', segments=[GPXTrackSegment(points=[])]), GPXTrack(name='ACTIVE LOG #2', number=1, segments=[GPXTrackSegment(points=[...])]), GPXTrack(name='ACTIVE LOG #3', number=2, segments=[GPXTrackSegment(points=[...])]), GPXTrack(name='ACTIVE LOG #4', number=3, segments=[GPXTrackSegment(points=[...])]), GPXTrack(name='ACTIVE LOG #5', number=4, segments=[GPXTrackSegment(points=[...])]), GPXTrack(name='ACTIVE LOG #6', number=5, segments=[GPXTrackSegment(points=[...])]), GPXTrack(name='ACTIVE LOG #7', number=6, segments=[GPXTrackSegment(points=[...])]), GPXTrack(name='ACTIVE LOG #8', number=7, segments=[GPXTrackSegment(points=[...])])])\n"
     ]
    }
   ],
   "source": [
    "import gpxpy\n",
    "import gpxpy.gpx\n",
    "import psycopg2\n",
    "\n",
    "with open(\"test_files_gpxpy/test_files/cerknicko-jezero.gpx\", \"r\") as gpx_test:\n",
    "    gpx_file = gpxpy.parse(gpx_test)\n",
    "    print(gpx_file)"
   ]
  }
 ],
 "metadata": {
  "kernelspec": {
   "display_name": "Spirit-D",
   "language": "python",
   "name": "python3"
  },
  "language_info": {
   "codemirror_mode": {
    "name": "ipython",
    "version": 3
   },
   "file_extension": ".py",
   "mimetype": "text/x-python",
   "name": "python",
   "nbconvert_exporter": "python",
   "pygments_lexer": "ipython3",
   "version": "3.11.9"
  }
 },
 "nbformat": 4,
 "nbformat_minor": 5
}
